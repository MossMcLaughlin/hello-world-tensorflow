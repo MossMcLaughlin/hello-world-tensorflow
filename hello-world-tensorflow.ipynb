{
 "cells": [
  {
   "cell_type": "markdown",
   "metadata": {
    "deletable": true,
    "editable": true
   },
   "source": [
    "### Basics of tensorflow, Tensors, Variables, Placeholders & Operations. "
   ]
  },
  {
   "cell_type": "code",
   "execution_count": 1,
   "metadata": {
    "collapsed": false,
    "deletable": true,
    "editable": true
   },
   "outputs": [],
   "source": [
    "import tensorflow as tf"
   ]
  },
  {
   "cell_type": "markdown",
   "metadata": {
    "deletable": true,
    "editable": true
   },
   "source": [
    "##### Constants & Operations\n",
    "First things first, lets create two constants and add them."
   ]
  },
  {
   "cell_type": "code",
   "execution_count": 2,
   "metadata": {
    "collapsed": true,
    "deletable": true,
    "editable": true
   },
   "outputs": [],
   "source": [
    "a = tf.constant([40])\n",
    "b = tf.constant([2])"
   ]
  },
  {
   "cell_type": "code",
   "execution_count": 3,
   "metadata": {
    "collapsed": true,
    "deletable": true,
    "editable": true
   },
   "outputs": [],
   "source": [
    "c = tf.add(a,b)\n",
    "# c = a + b "
   ]
  },
  {
   "cell_type": "markdown",
   "metadata": {
    "deletable": true,
    "editable": true
   },
   "source": [
    "Remember that Tensorflow works by defining a computation graph, meaning the value of [c] is not computed on the above line, but rather stored as a computation to do. If we want to access the value of [c] we first have to have the computation graph in a <em> session </em> \n",
    "\n",
    "Note: we can use the regular python notation c = a + b, or the tensorflow function tf.add()"
   ]
  },
  {
   "cell_type": "code",
   "execution_count": 4,
   "metadata": {
    "collapsed": false,
    "deletable": true,
    "editable": true
   },
   "outputs": [
    {
     "name": "stdout",
     "output_type": "stream",
     "text": [
      "[42]\n"
     ]
    }
   ],
   "source": [
    "with tf.Session() as sess:\n",
    "  result = sess.run(c)\n",
    "  print(result)"
   ]
  },
  {
   "cell_type": "code",
   "execution_count": 5,
   "metadata": {
    "collapsed": false,
    "deletable": true,
    "editable": true
   },
   "outputs": [],
   "source": [
    "d = tf.constant([6])\n",
    "e = tf.constant([7])"
   ]
  },
  {
   "cell_type": "code",
   "execution_count": 6,
   "metadata": {
    "collapsed": false,
    "deletable": true,
    "editable": true
   },
   "outputs": [],
   "source": [
    "f = tf.multiply(d,e)"
   ]
  },
  {
   "cell_type": "code",
   "execution_count": 7,
   "metadata": {
    "collapsed": false,
    "deletable": true,
    "editable": true
   },
   "outputs": [
    {
     "name": "stdout",
     "output_type": "stream",
     "text": [
      "[42]\n"
     ]
    }
   ],
   "source": [
    "with tf.Session() as sess:\n",
    "  result = sess.run(f)\n",
    "  print(result)"
   ]
  },
  {
   "cell_type": "markdown",
   "metadata": {
    "deletable": true,
    "editable": true
   },
   "source": [
    "This is the basic idea of running a tensorflow session. Tensorflow support many more operations for tensors (..if you couldn't guess from the name)\n",
    "\n",
    "Here are a few examples.  \n",
    "* tf.multiply(x, y)\n",
    "* tf.div(x, y)\n",
    "* tf.square(x) \n",
    "* tf.sqrt(x)\n",
    "* tf.pow(x, y)\n",
    "* tf.exp(x)\n",
    "* tf.log(x)\n",
    "* tf.cos(x)\n",
    "* tf.sin(x)"
   ]
  },
  {
   "cell_type": "markdown",
   "metadata": {
    "deletable": true,
    "editable": true
   },
   "source": [
    "Creating integer constants is the same as for vectors, marticies and tensors.   \n",
    "(Remember a single number is considered a rank-zero tensor, a vector is rank-one, a matrix is rank-two and so forth)"
   ]
  },
  {
   "cell_type": "code",
   "execution_count": 8,
   "metadata": {
    "collapsed": true,
    "deletable": true,
    "editable": true
   },
   "outputs": [],
   "source": [
    "A = tf.constant([[1,2,3],[3,4,5],[5,6,7]])\n",
    "B = tf.constant([[3,4,5],[5,6,7],[7,8,9]])"
   ]
  },
  {
   "cell_type": "code",
   "execution_count": 9,
   "metadata": {
    "collapsed": true,
    "deletable": true,
    "editable": true
   },
   "outputs": [],
   "source": [
    "C = tf.add(A,B)"
   ]
  },
  {
   "cell_type": "code",
   "execution_count": 10,
   "metadata": {
    "collapsed": false,
    "deletable": true,
    "editable": true
   },
   "outputs": [
    {
     "name": "stdout",
     "output_type": "stream",
     "text": [
      "[[ 4  6  8]\n",
      " [ 8 10 12]\n",
      " [12 14 16]]\n"
     ]
    }
   ],
   "source": [
    "with tf.Session() as sess:\n",
    "    result = sess.run(C)\n",
    "    print(result)\n",
    "    "
   ]
  },
  {
   "cell_type": "markdown",
   "metadata": {
    "deletable": true,
    "editable": true
   },
   "source": [
    "There we see elementwise addition on two 3x3 matricies. One thing to keep in mind while using operators in tensorflow what we mean by these mathmatical operations. Finding the product ab = 6 x 7 = 42 is straightforward, but depending on who you ask you may have different answers for what the product AB would give you.  \n",
    "The two obvious answers are:\n",
    "1. Elementwise multiplication, called the Hammard product  \n",
    "2. The matrix product, as in linear algebra.\n",
    "\n",
    "Both can easily be expressed in tensorflow "
   ]
  },
  {
   "cell_type": "code",
   "execution_count": 11,
   "metadata": {
    "collapsed": true,
    "deletable": true,
    "editable": true
   },
   "outputs": [],
   "source": [
    "C_one = tf.matmul(A,B)\n",
    "C_two = tf.multiply(A,B)"
   ]
  },
  {
   "cell_type": "code",
   "execution_count": 12,
   "metadata": {
    "collapsed": false,
    "deletable": true,
    "editable": true
   },
   "outputs": [
    {
     "name": "stdout",
     "output_type": "stream",
     "text": [
      "The Hammard product:\n",
      "[[ 34  40  46]\n",
      " [ 64  76  88]\n",
      " [ 94 112 130]] \n",
      "The matrix product:\n",
      "[[ 3  8 15]\n",
      " [15 24 35]\n",
      " [35 48 63]]\n"
     ]
    }
   ],
   "source": [
    "with tf.Session() as sess:\n",
    "    op_one = sess.run(C_one)\n",
    "    op_two = sess.run(C_two)\n",
    "    print(\"The Hammard product:\\n{} \\nThe matrix product:\\n{}\".format(op_one,op_two))"
   ]
  },
  {
   "cell_type": "markdown",
   "metadata": {
    "deletable": true,
    "editable": true
   },
   "source": [
    "#### Creating and updating variables"
   ]
  },
  {
   "cell_type": "code",
   "execution_count": 13,
   "metadata": {
    "collapsed": false,
    "deletable": true,
    "editable": true
   },
   "outputs": [],
   "source": [
    "a = tf.constant(10)\n",
    "b = tf.Variable(0)\n",
    "init_op = tf.global_variables_initializer()\n",
    "update = tf.assign(b,a)"
   ]
  },
  {
   "cell_type": "code",
   "execution_count": 14,
   "metadata": {
    "collapsed": false,
    "deletable": true,
    "editable": true
   },
   "outputs": [
    {
     "name": "stdout",
     "output_type": "stream",
     "text": [
      "10\n"
     ]
    }
   ],
   "source": [
    "with tf.Session() as sess:\n",
    "    sess.run(init_op)\n",
    "    sess.run(update)\n",
    "    result = sess.run(b)\n",
    "    print(result)"
   ]
  },
  {
   "cell_type": "markdown",
   "metadata": {
    "deletable": true,
    "editable": true
   },
   "source": [
    "#### Fibonacci Sequence \n",
    "We have now covered enough to express the Fibonacci sequence using tensorflow.\n",
    "The Fibonacci sequence is defined by the recursize equation,\n",
    "\\begin{equation} \n",
    "F_n = F_{n-1} + F_{n-2}\n",
    "\\end{equation}\n",
    "Which produces the series, 1,1,2,3,5,8,13,21...\n"
   ]
  },
  {
   "cell_type": "code",
   "execution_count": 15,
   "metadata": {
    "collapsed": true,
    "deletable": true,
    "editable": true
   },
   "outputs": [],
   "source": [
    "f_n = tf.Variable(0)\n",
    "f_n_minus_one = tf.Variable(1)\n",
    "f_n_minus_two = tf.Variable(1)\n",
    "steps = 17\n",
    "init_op = tf.global_variables_initializer()\n",
    "update1 = tf.assign(f_n,f_n_minus_one+f_n_minus_two)\n",
    "update2 = tf.assign(f_n_minus_two,f_n_minus_one)\n",
    "update3 = tf.assign(f_n_minus_one,f_n)\n"
   ]
  },
  {
   "cell_type": "code",
   "execution_count": 16,
   "metadata": {
    "collapsed": false,
    "deletable": true,
    "editable": true
   },
   "outputs": [
    {
     "name": "stdout",
     "output_type": "stream",
     "text": [
      "1, 1, 2, 3, 5, 8, 13, 21, 34, 55, 89, 144, 233, 377, 610, 987, 1597, 2584, 4181, .....\n"
     ]
    }
   ],
   "source": [
    "with tf.Session() as sess:\n",
    "    sess.run(init_op)\n",
    "    print(sess.run(f_n_minus_two),end=', ')\n",
    "    print(sess.run(f_n_minus_one),end=', ')\n",
    "    for i in range(steps):\n",
    "        sess.run(update1)\n",
    "        sess.run(update2)\n",
    "        sess.run(update3)\n",
    "        print(sess.run(f_n),end=', ')\n",
    "    print('.....')"
   ]
  }
 ],
 "metadata": {
  "kernelspec": {
   "display_name": "Python 3",
   "language": "python",
   "name": "python3"
  },
  "language_info": {
   "codemirror_mode": {
    "name": "ipython",
    "version": 3
   },
   "file_extension": ".py",
   "mimetype": "text/x-python",
   "name": "python",
   "nbconvert_exporter": "python",
   "pygments_lexer": "ipython3",
   "version": "3.6.0"
  }
 },
 "nbformat": 4,
 "nbformat_minor": 2
}
